{
 "cells": [
  {
   "cell_type": "markdown",
   "metadata": {
    "deletable": false,
    "editable": false,
    "nbgrader": {
     "cell_type": "markdown",
     "checksum": "ebc5a15fdef278219fe7cfc60992d4cd",
     "grade": false,
     "grade_id": "cell-bc163031976ef890",
     "locked": true,
     "schema_version": 3,
     "solution": false,
     "task": false
    }
   },
   "source": [
    "# Activity: Full OSEMN"
   ]
  },
  {
   "cell_type": "markdown",
   "metadata": {
    "deletable": false,
    "editable": false,
    "nbgrader": {
     "cell_type": "markdown",
     "checksum": "b985f887d6c88f67b8a92ebbfa14655d",
     "grade": false,
     "grade_id": "cell-cff3bc46f2ad16db",
     "locked": true,
     "schema_version": 3,
     "solution": false,
     "task": false
    }
   },
   "source": [
    "## Introduction\n",
    "\n",
    "In this assignment, you will work on a data analysis project. This project will\n",
    "let you practice the skills you have learned in this course and write real code\n",
    "in Python.\n",
    "\n",
    "You will perform the following steps of the OSEMN framework:  \n",
    "- [Scrub](#scrub)\n",
    "- [Explore](#explore)\n",
    "- [Interpret](#interpret)"
   ]
  },
  {
   "cell_type": "code",
   "execution_count": 1,
   "metadata": {
    "deletable": false,
    "editable": false,
    "nbgrader": {
     "cell_type": "code",
     "checksum": "7b1f0d38d6616da3b0a4a29f33a8b625",
     "grade": false,
     "grade_id": "cell-8daaa133ff20e90c",
     "locked": true,
     "schema_version": 3,
     "solution": false,
     "task": false
    }
   },
   "outputs": [],
   "source": [
    "# We'll import the libraries you'll likely use for this activity\n",
    "import pandas as pd\n",
    "import matplotlib.pyplot as plt\n",
    "import seaborn as sns\n",
    "\n",
    "# Data\n",
    "df = pd.read_csv('transactions-pet_store.csv')\n",
    "df_orig = df.copy()"
   ]
  },
  {
   "cell_type": "markdown",
   "metadata": {
    "deletable": false,
    "editable": false,
    "nbgrader": {
     "cell_type": "markdown",
     "checksum": "f62a12e61a129af57f13408c3f69db18",
     "grade": false,
     "grade_id": "cell-3084fb0969ac42c8",
     "locked": true,
     "schema_version": 3,
     "solution": false,
     "task": false
    }
   },
   "source": [
    "## Scrub\n",
    "\n",
    "You will scrub the data. It's important that you follow the directions as\n",
    "stated. Doing more or less than what is asked might lead to not getting full\n",
    "points for the question.\n",
    "\n",
    "------\n",
    "\n",
    "If while you're working on the scrubbing phase you need to reset the DataFrame,\n",
    "you can restart the kernel (in the toolbar: \"Kernel\" > \"Restart\")."
   ]
  },
  {
   "cell_type": "markdown",
   "metadata": {
    "deletable": false,
    "editable": false,
    "nbgrader": {
     "cell_type": "markdown",
     "checksum": "7ae5cef8cb95c1ffdeffec6b06b64492",
     "grade": false,
     "grade_id": "cell-b363c2591fbd7e2e",
     "locked": true,
     "schema_version": 3,
     "solution": false,
     "task": false
    }
   },
   "source": [
    "#### Question 1\n",
    "\n",
    "Remove all rows that have are missing either the `Product_Name` or the\n",
    "`Product_Category`. Assign the cleaned DataFrame to the variable `df`\n",
    "(overwriting the original DataFrame.)."
   ]
  },
  {
   "cell_type": "code",
   "execution_count": 2,
   "metadata": {
    "deletable": false,
    "nbgrader": {
     "cell_type": "code",
     "checksum": "540c869e44f1cbff68c3b0728f83dcb6",
     "grade": false,
     "grade_id": "cell-f9ba4f00dd002cd0",
     "locked": false,
     "schema_version": 3,
     "solution": true,
     "task": false
    }
   },
   "outputs": [
    {
     "data": {
      "text/html": [
       "<div>\n",
       "<style scoped>\n",
       "    .dataframe tbody tr th:only-of-type {\n",
       "        vertical-align: middle;\n",
       "    }\n",
       "\n",
       "    .dataframe tbody tr th {\n",
       "        vertical-align: top;\n",
       "    }\n",
       "\n",
       "    .dataframe thead th {\n",
       "        text-align: right;\n",
       "    }\n",
       "</style>\n",
       "<table border=\"1\" class=\"dataframe\">\n",
       "  <thead>\n",
       "    <tr style=\"text-align: right;\">\n",
       "      <th></th>\n",
       "      <th>Date</th>\n",
       "      <th>Order_Number</th>\n",
       "      <th>Customer_ID</th>\n",
       "      <th>Product_Name</th>\n",
       "      <th>SKU</th>\n",
       "      <th>Price</th>\n",
       "      <th>Size</th>\n",
       "      <th>Quantity</th>\n",
       "      <th>Product_Category</th>\n",
       "      <th>Product_Line</th>\n",
       "    </tr>\n",
       "  </thead>\n",
       "  <tbody>\n",
       "    <tr>\n",
       "      <th>0</th>\n",
       "      <td>5/22/2021</td>\n",
       "      <td>SXF-7309-1727-1334</td>\n",
       "      <td>476582ea-1bba-4289-8775-3fcd8074821c</td>\n",
       "      <td>Feline Fix Mix</td>\n",
       "      <td>RKAPY3I1TP</td>\n",
       "      <td>39.55</td>\n",
       "      <td>NaN</td>\n",
       "      <td>1</td>\n",
       "      <td>treat</td>\n",
       "      <td>cat</td>\n",
       "    </tr>\n",
       "    <tr>\n",
       "      <th>1</th>\n",
       "      <td>5/22/2021</td>\n",
       "      <td>SXF-7309-1727-1334</td>\n",
       "      <td>476582ea-1bba-4289-8775-3fcd8074821c</td>\n",
       "      <td>Scratchy Post</td>\n",
       "      <td>MPH6SCD7UT</td>\n",
       "      <td>26.95</td>\n",
       "      <td>NaN</td>\n",
       "      <td>3</td>\n",
       "      <td>toy</td>\n",
       "      <td>cat</td>\n",
       "    </tr>\n",
       "    <tr>\n",
       "      <th>2</th>\n",
       "      <td>5/22/2021</td>\n",
       "      <td>SXF-7309-1727-1334</td>\n",
       "      <td>476582ea-1bba-4289-8775-3fcd8074821c</td>\n",
       "      <td>Reddy Beddy</td>\n",
       "      <td>DJWE1V9LZK</td>\n",
       "      <td>23.07</td>\n",
       "      <td>large</td>\n",
       "      <td>3</td>\n",
       "      <td>bedding</td>\n",
       "      <td>dog</td>\n",
       "    </tr>\n",
       "    <tr>\n",
       "      <th>3</th>\n",
       "      <td>3/23/2020</td>\n",
       "      <td>DG7-5410-5845-1340</td>\n",
       "      <td>5929a0e9-95a7-4dbf-896e-c11d1988615e</td>\n",
       "      <td>Snoozer Essentails</td>\n",
       "      <td>GABWVMEL2R</td>\n",
       "      <td>28.04</td>\n",
       "      <td>NaN</td>\n",
       "      <td>3</td>\n",
       "      <td>bedding</td>\n",
       "      <td>dog</td>\n",
       "    </tr>\n",
       "    <tr>\n",
       "      <th>4</th>\n",
       "      <td>3/23/2020</td>\n",
       "      <td>DG7-5410-5845-1340</td>\n",
       "      <td>5929a0e9-95a7-4dbf-896e-c11d1988615e</td>\n",
       "      <td>Reddy Beddy</td>\n",
       "      <td>KDTMPSBZKZ</td>\n",
       "      <td>13.84</td>\n",
       "      <td>small</td>\n",
       "      <td>1</td>\n",
       "      <td>bedding</td>\n",
       "      <td>dog</td>\n",
       "    </tr>\n",
       "    <tr>\n",
       "      <th>...</th>\n",
       "      <td>...</td>\n",
       "      <td>...</td>\n",
       "      <td>...</td>\n",
       "      <td>...</td>\n",
       "      <td>...</td>\n",
       "      <td>...</td>\n",
       "      <td>...</td>\n",
       "      <td>...</td>\n",
       "      <td>...</td>\n",
       "      <td>...</td>\n",
       "    </tr>\n",
       "    <tr>\n",
       "      <th>2898</th>\n",
       "      <td>10/16/2020</td>\n",
       "      <td>P8K-8079-0264-6569</td>\n",
       "      <td>468f40b3-59ca-47fd-9739-c7f19cf48f32</td>\n",
       "      <td>Cat Cave</td>\n",
       "      <td>058G0P7V60</td>\n",
       "      <td>29.66</td>\n",
       "      <td>NaN</td>\n",
       "      <td>1</td>\n",
       "      <td>bedding</td>\n",
       "      <td>cat</td>\n",
       "    </tr>\n",
       "    <tr>\n",
       "      <th>2899</th>\n",
       "      <td>10/16/2020</td>\n",
       "      <td>P8K-8079-0264-6569</td>\n",
       "      <td>468f40b3-59ca-47fd-9739-c7f19cf48f32</td>\n",
       "      <td>Kitty Climber</td>\n",
       "      <td>W86BRJ9SSG</td>\n",
       "      <td>39.32</td>\n",
       "      <td>NaN</td>\n",
       "      <td>1</td>\n",
       "      <td>toy</td>\n",
       "      <td>cat</td>\n",
       "    </tr>\n",
       "    <tr>\n",
       "      <th>2900</th>\n",
       "      <td>10/16/2020</td>\n",
       "      <td>P8K-8079-0264-6569</td>\n",
       "      <td>468f40b3-59ca-47fd-9739-c7f19cf48f32</td>\n",
       "      <td>Fetch Blaster</td>\n",
       "      <td>M291KHJ4LW</td>\n",
       "      <td>29.47</td>\n",
       "      <td>NaN</td>\n",
       "      <td>1</td>\n",
       "      <td>toy</td>\n",
       "      <td>dog</td>\n",
       "    </tr>\n",
       "    <tr>\n",
       "      <th>2901</th>\n",
       "      <td>10/16/2020</td>\n",
       "      <td>P8K-8079-0264-6569</td>\n",
       "      <td>468f40b3-59ca-47fd-9739-c7f19cf48f32</td>\n",
       "      <td>Snoozer Essentails</td>\n",
       "      <td>GABWVMEL2R</td>\n",
       "      <td>28.04</td>\n",
       "      <td>NaN</td>\n",
       "      <td>1</td>\n",
       "      <td>bedding</td>\n",
       "      <td>dog</td>\n",
       "    </tr>\n",
       "    <tr>\n",
       "      <th>2902</th>\n",
       "      <td>12/10/2019</td>\n",
       "      <td>6ZD-7972-0320-6653</td>\n",
       "      <td>f2a090b3-ec77-4018-939e-1a18d2b4f4ef</td>\n",
       "      <td>Snoozer Essentails</td>\n",
       "      <td>GABWVMEL2R</td>\n",
       "      <td>28.04</td>\n",
       "      <td>NaN</td>\n",
       "      <td>1</td>\n",
       "      <td>bedding</td>\n",
       "      <td>dog</td>\n",
       "    </tr>\n",
       "  </tbody>\n",
       "</table>\n",
       "<p>2758 rows × 10 columns</p>\n",
       "</div>"
      ],
      "text/plain": [
       "            Date        Order_Number                           Customer_ID  \\\n",
       "0      5/22/2021  SXF-7309-1727-1334  476582ea-1bba-4289-8775-3fcd8074821c   \n",
       "1      5/22/2021  SXF-7309-1727-1334  476582ea-1bba-4289-8775-3fcd8074821c   \n",
       "2      5/22/2021  SXF-7309-1727-1334  476582ea-1bba-4289-8775-3fcd8074821c   \n",
       "3      3/23/2020  DG7-5410-5845-1340  5929a0e9-95a7-4dbf-896e-c11d1988615e   \n",
       "4      3/23/2020  DG7-5410-5845-1340  5929a0e9-95a7-4dbf-896e-c11d1988615e   \n",
       "...          ...                 ...                                   ...   \n",
       "2898  10/16/2020  P8K-8079-0264-6569  468f40b3-59ca-47fd-9739-c7f19cf48f32   \n",
       "2899  10/16/2020  P8K-8079-0264-6569  468f40b3-59ca-47fd-9739-c7f19cf48f32   \n",
       "2900  10/16/2020  P8K-8079-0264-6569  468f40b3-59ca-47fd-9739-c7f19cf48f32   \n",
       "2901  10/16/2020  P8K-8079-0264-6569  468f40b3-59ca-47fd-9739-c7f19cf48f32   \n",
       "2902  12/10/2019  6ZD-7972-0320-6653  f2a090b3-ec77-4018-939e-1a18d2b4f4ef   \n",
       "\n",
       "            Product_Name         SKU  Price   Size  Quantity Product_Category  \\\n",
       "0         Feline Fix Mix  RKAPY3I1TP  39.55    NaN         1            treat   \n",
       "1          Scratchy Post  MPH6SCD7UT  26.95    NaN         3              toy   \n",
       "2            Reddy Beddy  DJWE1V9LZK  23.07  large         3          bedding   \n",
       "3     Snoozer Essentails  GABWVMEL2R  28.04    NaN         3          bedding   \n",
       "4            Reddy Beddy  KDTMPSBZKZ  13.84  small         1          bedding   \n",
       "...                  ...         ...    ...    ...       ...              ...   \n",
       "2898            Cat Cave  058G0P7V60  29.66    NaN         1          bedding   \n",
       "2899       Kitty Climber  W86BRJ9SSG  39.32    NaN         1              toy   \n",
       "2900       Fetch Blaster  M291KHJ4LW  29.47    NaN         1              toy   \n",
       "2901  Snoozer Essentails  GABWVMEL2R  28.04    NaN         1          bedding   \n",
       "2902  Snoozer Essentails  GABWVMEL2R  28.04    NaN         1          bedding   \n",
       "\n",
       "     Product_Line  \n",
       "0             cat  \n",
       "1             cat  \n",
       "2             dog  \n",
       "3             dog  \n",
       "4             dog  \n",
       "...           ...  \n",
       "2898          cat  \n",
       "2899          cat  \n",
       "2900          dog  \n",
       "2901          dog  \n",
       "2902          dog  \n",
       "\n",
       "[2758 rows x 10 columns]"
      ]
     },
     "execution_count": 2,
     "metadata": {},
     "output_type": "execute_result"
    }
   ],
   "source": [
    "df = df.dropna(subset=['Product_Name', 'Product_Category'])\n",
    "df"
   ]
  },
  {
   "cell_type": "code",
   "execution_count": 3,
   "metadata": {
    "deletable": false,
    "editable": false,
    "nbgrader": {
     "cell_type": "code",
     "checksum": "eeec62cf812cc62302c595566186aeee",
     "grade": true,
     "grade_id": "cell-6fc76891b2b5a730",
     "locked": true,
     "points": 1,
     "schema_version": 3,
     "solution": false,
     "task": false
    }
   },
   "outputs": [],
   "source": [
    "# Question 1 Grading Checks\n",
    "\n",
    "assert df.shape[0] <= 2874, 'Did you remove all the rows with missing values for the columns Product_Name & Product_Category?'\n",
    "assert df.shape[0] >= 2700, 'Did you remove too many the rows with missing values?'\n",
    "assert len(df.columns) == 10, 'Make sure you do not drop any columns.'"
   ]
  },
  {
   "cell_type": "markdown",
   "metadata": {
    "deletable": false,
    "editable": false,
    "nbgrader": {
     "cell_type": "markdown",
     "checksum": "9a935ca2e1ccdafd225dcb2db2201ecc",
     "grade": false,
     "grade_id": "cell-c0b59bb3a7312e52",
     "locked": true,
     "schema_version": 3,
     "solution": false,
     "task": false
    }
   },
   "source": [
    "#### Question 2\n",
    "\n",
    "Find any clearly \"incorrect\" values in the `Price` column and \"clean\" the\n",
    "DataFrame to address those values.\n",
    "\n",
    "Ensure you make the changes to the DataFrame assigned to the variable `df`."
   ]
  },
  {
   "cell_type": "code",
   "execution_count": 4,
   "metadata": {
    "deletable": false,
    "nbgrader": {
     "cell_type": "code",
     "checksum": "316d87894dec7cffb19b6cdb33f676f7",
     "grade": false,
     "grade_id": "cell-7b941f6f77d0d8e9",
     "locked": false,
     "schema_version": 3,
     "solution": true,
     "task": false
    }
   },
   "outputs": [
    {
     "name": "stdout",
     "output_type": "stream",
     "text": [
      "count     2758.000000\n",
      "mean        25.621632\n",
      "std        535.327290\n",
      "min     -19873.000000\n",
      "25%         17.160000\n",
      "50%         25.480000\n",
      "75%         34.380000\n",
      "max      19873.000000\n",
      "Name: Price, dtype: float64\n",
      "         Date       Order_Number                           Customer_ID  \\\n",
      "67  5/24/2020  KAI-53R-H05P-1T41  8e67ab1c-5a30-9999-ad7d-51819e7e44ee   \n",
      "\n",
      "       Product_Name         SKU    Price Size  Quantity Product_Category  \\\n",
      "67  MissingNo Plush  PHA6NTT7OM -19873.0  NaN         1              toy   \n",
      "\n",
      "   Product_Line  \n",
      "67          dog  \n"
     ]
    }
   ],
   "source": [
    "print(df['Price'].describe())\n",
    "print(df[df['Price'] <= 0])\n",
    "df = df[df['Price'] > 0]"
   ]
  },
  {
   "cell_type": "code",
   "execution_count": 5,
   "metadata": {},
   "outputs": [],
   "source": [
    "upper_limit = df['Price'].quantile(0.999)\n",
    "df = df[df['Price'] <= upper_limit]"
   ]
  },
  {
   "cell_type": "code",
   "execution_count": 6,
   "metadata": {
    "deletable": false,
    "editable": false,
    "nbgrader": {
     "cell_type": "code",
     "checksum": "e298db9d50ec4e9e521f68b548cb28d4",
     "grade": true,
     "grade_id": "cell-97ff7e916e20eaa0",
     "locked": true,
     "points": 1,
     "schema_version": 3,
     "solution": false,
     "task": false
    }
   },
   "outputs": [],
   "source": [
    "# Question 2 Grading Checks\n",
    "\n",
    "assert (df.Price < df.Price.quantile(0.0001)).sum() == 0, 'Check for very small values'\n",
    "assert (df.Price > df.Price.quantile(0.999)).sum() == 0, 'Check for very large values'"
   ]
  },
  {
   "cell_type": "markdown",
   "metadata": {
    "deletable": false,
    "editable": false,
    "nbgrader": {
     "cell_type": "markdown",
     "checksum": "1cdcf1b22cb673298236f4dd15b6637c",
     "grade": false,
     "grade_id": "cell-e04236e7ff88f62a",
     "locked": true,
     "schema_version": 3,
     "solution": false,
     "task": false
    }
   },
   "source": [
    "#### Question 3\n",
    "\n",
    "After you've done the cleaning above, remove any column that has more than `500`\n",
    "missing values.\n",
    "\n",
    "Ensure you make the changes to the DataFrame assigned to the variable `df`."
   ]
  },
  {
   "cell_type": "code",
   "execution_count": 7,
   "metadata": {
    "deletable": false,
    "nbgrader": {
     "cell_type": "code",
     "checksum": "3814d0acc240faeb9b48a56dc9aa22d8",
     "grade": false,
     "grade_id": "cell-c51798c512afbebd",
     "locked": false,
     "schema_version": 3,
     "solution": true,
     "task": false
    }
   },
   "outputs": [],
   "source": [
    "# Your code here\n",
    "\n",
    "df = df.dropna(axis=1, thresh=len(df) - 500)"
   ]
  },
  {
   "cell_type": "code",
   "execution_count": 8,
   "metadata": {
    "deletable": false,
    "editable": false,
    "nbgrader": {
     "cell_type": "code",
     "checksum": "3058fe38d955c8ec436a77eb6a50c657",
     "grade": true,
     "grade_id": "cell-c513d362e8749eba",
     "locked": true,
     "points": 1,
     "schema_version": 3,
     "solution": false,
     "task": false
    }
   },
   "outputs": [],
   "source": [
    "# Question 3 Grading Checks\n",
    "\n",
    "assert len(df.columns) < 10, 'You should have dropped 1 or more columns (with more than 500 missing values)'"
   ]
  },
  {
   "cell_type": "markdown",
   "metadata": {
    "deletable": false,
    "editable": false,
    "nbgrader": {
     "cell_type": "markdown",
     "checksum": "016b0014c41aa9705f38b381f02c3dc6",
     "grade": false,
     "grade_id": "cell-576a3fae18d872b4",
     "locked": true,
     "schema_version": 3,
     "solution": false,
     "task": false
    }
   },
   "source": [
    "#### Question 4\n",
    "\n",
    "Address the other missing values. You can replace the values or remvove them,\n",
    "but whatever method you decide to clean the DataFrame, you should no longer have\n",
    "any missing values.\n",
    "\n",
    "Ensure you make the changes to the DataFrame assigned to the variable `df`."
   ]
  },
  {
   "cell_type": "code",
   "execution_count": 9,
   "metadata": {
    "deletable": false,
    "nbgrader": {
     "cell_type": "code",
     "checksum": "742a9accde3c1ced52442ad7b90622b5",
     "grade": false,
     "grade_id": "cell-3116ffcaf3255a8b",
     "locked": false,
     "schema_version": 3,
     "solution": true,
     "task": false
    }
   },
   "outputs": [],
   "source": [
    "df = df.dropna()"
   ]
  },
  {
   "cell_type": "code",
   "execution_count": 10,
   "metadata": {
    "deletable": false,
    "editable": false,
    "nbgrader": {
     "cell_type": "code",
     "checksum": "788e91ba92c4d123a4b545170803126c",
     "grade": true,
     "grade_id": "cell-145b65e134914553",
     "locked": true,
     "points": 1,
     "schema_version": 3,
     "solution": false,
     "task": false
    }
   },
   "outputs": [],
   "source": [
    "# Question 4 Grading Checks\n",
    "\n",
    "assert df.Customer_ID.isna().sum() == 0, 'Did you address all the missing values?'"
   ]
  },
  {
   "cell_type": "markdown",
   "metadata": {
    "deletable": false,
    "editable": false,
    "nbgrader": {
     "cell_type": "markdown",
     "checksum": "9b3c8786e095536173b8e646c3e68c34",
     "grade": false,
     "grade_id": "cell-728db712865861a4",
     "locked": true,
     "schema_version": 3,
     "solution": false,
     "task": false
    }
   },
   "source": [
    "## Explore\n",
    "\n",
    "You will explore the data. It's important that you follow the directions as\n",
    "stated. Doing more or less than what is asked might lead to not getting full\n",
    "points for the question.\n",
    "\n",
    "You may use either exploratory statistics or exploratory visualizations to help\n",
    "answer these questions.\n",
    "\n",
    "------\n",
    "\n",
    "Note that the DataFrame loaded for this section (in the below cell) is different\n",
    "from the data you used in the [Scrub](#scrub) section.\n",
    "\n",
    "If while you're working on the scrubbing phase you need to reset the DataFrame,\n",
    "you can restart the kernel (in the toolbar: \"Kernel\" > \"Restart\")."
   ]
  },
  {
   "cell_type": "code",
   "execution_count": 11,
   "metadata": {
    "deletable": false,
    "editable": false,
    "nbgrader": {
     "cell_type": "code",
     "checksum": "51a2a005d45998aafa201431810b1e0c",
     "grade": false,
     "grade_id": "cell-4542d3a8860bf716",
     "locked": true,
     "schema_version": 3,
     "solution": false,
     "task": false
    }
   },
   "outputs": [],
   "source": [
    "df = pd.read_csv('transactions-pet_store-clean.csv')"
   ]
  },
  {
   "cell_type": "markdown",
   "metadata": {
    "deletable": false,
    "editable": false,
    "nbgrader": {
     "cell_type": "markdown",
     "checksum": "a819e2e84b50a08f988beb5074ce6cae",
     "grade": false,
     "grade_id": "cell-5a0260933795882f",
     "locked": true,
     "schema_version": 3,
     "solution": false,
     "task": false
    }
   },
   "source": [
    "#### Question 5\n",
    "\n",
    "Create a `Subtotal` column by multiplying the `Price` and `Quantity` values. \n",
    "This represents how much was spent for a given transaction (row)."
   ]
  },
  {
   "cell_type": "code",
   "execution_count": 12,
   "metadata": {
    "deletable": false,
    "nbgrader": {
     "cell_type": "code",
     "checksum": "e4d4b721419ee163d932cc9ec87c1d27",
     "grade": false,
     "grade_id": "cell-59ace92c404e6c20",
     "locked": false,
     "schema_version": 3,
     "solution": true,
     "task": false
    }
   },
   "outputs": [
    {
     "data": {
      "text/html": [
       "<div>\n",
       "<style scoped>\n",
       "    .dataframe tbody tr th:only-of-type {\n",
       "        vertical-align: middle;\n",
       "    }\n",
       "\n",
       "    .dataframe tbody tr th {\n",
       "        vertical-align: top;\n",
       "    }\n",
       "\n",
       "    .dataframe thead th {\n",
       "        text-align: right;\n",
       "    }\n",
       "</style>\n",
       "<table border=\"1\" class=\"dataframe\">\n",
       "  <thead>\n",
       "    <tr style=\"text-align: right;\">\n",
       "      <th></th>\n",
       "      <th>Date</th>\n",
       "      <th>Order_Number</th>\n",
       "      <th>Customer_ID</th>\n",
       "      <th>Product_Name</th>\n",
       "      <th>SKU</th>\n",
       "      <th>Price</th>\n",
       "      <th>Quantity</th>\n",
       "      <th>Product_Category</th>\n",
       "      <th>Product_Line</th>\n",
       "      <th>Subtotal</th>\n",
       "    </tr>\n",
       "  </thead>\n",
       "  <tbody>\n",
       "    <tr>\n",
       "      <th>0</th>\n",
       "      <td>5/22/2021</td>\n",
       "      <td>SXF-7309-1727-1334</td>\n",
       "      <td>476582ea-1bba-4289-8775-3fcd8074821c</td>\n",
       "      <td>Feline Fix Mix</td>\n",
       "      <td>RKAPY3I1TP</td>\n",
       "      <td>39.55</td>\n",
       "      <td>1</td>\n",
       "      <td>treat</td>\n",
       "      <td>cat</td>\n",
       "      <td>39.55</td>\n",
       "    </tr>\n",
       "    <tr>\n",
       "      <th>1</th>\n",
       "      <td>5/22/2021</td>\n",
       "      <td>SXF-7309-1727-1334</td>\n",
       "      <td>476582ea-1bba-4289-8775-3fcd8074821c</td>\n",
       "      <td>Scratchy Post</td>\n",
       "      <td>MPH6SCD7UT</td>\n",
       "      <td>26.95</td>\n",
       "      <td>3</td>\n",
       "      <td>toy</td>\n",
       "      <td>cat</td>\n",
       "      <td>80.85</td>\n",
       "    </tr>\n",
       "    <tr>\n",
       "      <th>2</th>\n",
       "      <td>5/22/2021</td>\n",
       "      <td>SXF-7309-1727-1334</td>\n",
       "      <td>476582ea-1bba-4289-8775-3fcd8074821c</td>\n",
       "      <td>Reddy Beddy</td>\n",
       "      <td>DJWE1V9LZK</td>\n",
       "      <td>23.07</td>\n",
       "      <td>3</td>\n",
       "      <td>bedding</td>\n",
       "      <td>dog</td>\n",
       "      <td>69.21</td>\n",
       "    </tr>\n",
       "    <tr>\n",
       "      <th>3</th>\n",
       "      <td>3/23/2020</td>\n",
       "      <td>DG7-5410-5845-1340</td>\n",
       "      <td>5929a0e9-95a7-4dbf-896e-c11d1988615e</td>\n",
       "      <td>Snoozer Essentails</td>\n",
       "      <td>GABWVMEL2R</td>\n",
       "      <td>28.04</td>\n",
       "      <td>3</td>\n",
       "      <td>bedding</td>\n",
       "      <td>dog</td>\n",
       "      <td>84.12</td>\n",
       "    </tr>\n",
       "    <tr>\n",
       "      <th>4</th>\n",
       "      <td>3/23/2020</td>\n",
       "      <td>DG7-5410-5845-1340</td>\n",
       "      <td>5929a0e9-95a7-4dbf-896e-c11d1988615e</td>\n",
       "      <td>Reddy Beddy</td>\n",
       "      <td>KDTMPSBZKZ</td>\n",
       "      <td>13.84</td>\n",
       "      <td>1</td>\n",
       "      <td>bedding</td>\n",
       "      <td>dog</td>\n",
       "      <td>13.84</td>\n",
       "    </tr>\n",
       "    <tr>\n",
       "      <th>...</th>\n",
       "      <td>...</td>\n",
       "      <td>...</td>\n",
       "      <td>...</td>\n",
       "      <td>...</td>\n",
       "      <td>...</td>\n",
       "      <td>...</td>\n",
       "      <td>...</td>\n",
       "      <td>...</td>\n",
       "      <td>...</td>\n",
       "      <td>...</td>\n",
       "    </tr>\n",
       "    <tr>\n",
       "      <th>2709</th>\n",
       "      <td>10/16/2020</td>\n",
       "      <td>P8K-8079-0264-6569</td>\n",
       "      <td>468f40b3-59ca-47fd-9739-c7f19cf48f32</td>\n",
       "      <td>Cat Cave</td>\n",
       "      <td>058G0P7V60</td>\n",
       "      <td>29.66</td>\n",
       "      <td>1</td>\n",
       "      <td>bedding</td>\n",
       "      <td>cat</td>\n",
       "      <td>29.66</td>\n",
       "    </tr>\n",
       "    <tr>\n",
       "      <th>2710</th>\n",
       "      <td>10/16/2020</td>\n",
       "      <td>P8K-8079-0264-6569</td>\n",
       "      <td>468f40b3-59ca-47fd-9739-c7f19cf48f32</td>\n",
       "      <td>Kitty Climber</td>\n",
       "      <td>W86BRJ9SSG</td>\n",
       "      <td>39.32</td>\n",
       "      <td>1</td>\n",
       "      <td>toy</td>\n",
       "      <td>cat</td>\n",
       "      <td>39.32</td>\n",
       "    </tr>\n",
       "    <tr>\n",
       "      <th>2711</th>\n",
       "      <td>10/16/2020</td>\n",
       "      <td>P8K-8079-0264-6569</td>\n",
       "      <td>468f40b3-59ca-47fd-9739-c7f19cf48f32</td>\n",
       "      <td>Fetch Blaster</td>\n",
       "      <td>M291KHJ4LW</td>\n",
       "      <td>29.47</td>\n",
       "      <td>1</td>\n",
       "      <td>toy</td>\n",
       "      <td>dog</td>\n",
       "      <td>29.47</td>\n",
       "    </tr>\n",
       "    <tr>\n",
       "      <th>2712</th>\n",
       "      <td>10/16/2020</td>\n",
       "      <td>P8K-8079-0264-6569</td>\n",
       "      <td>468f40b3-59ca-47fd-9739-c7f19cf48f32</td>\n",
       "      <td>Snoozer Essentails</td>\n",
       "      <td>GABWVMEL2R</td>\n",
       "      <td>28.04</td>\n",
       "      <td>1</td>\n",
       "      <td>bedding</td>\n",
       "      <td>dog</td>\n",
       "      <td>28.04</td>\n",
       "    </tr>\n",
       "    <tr>\n",
       "      <th>2713</th>\n",
       "      <td>12/10/2019</td>\n",
       "      <td>6ZD-7972-0320-6653</td>\n",
       "      <td>f2a090b3-ec77-4018-939e-1a18d2b4f4ef</td>\n",
       "      <td>Snoozer Essentails</td>\n",
       "      <td>GABWVMEL2R</td>\n",
       "      <td>28.04</td>\n",
       "      <td>1</td>\n",
       "      <td>bedding</td>\n",
       "      <td>dog</td>\n",
       "      <td>28.04</td>\n",
       "    </tr>\n",
       "  </tbody>\n",
       "</table>\n",
       "<p>2714 rows × 10 columns</p>\n",
       "</div>"
      ],
      "text/plain": [
       "            Date        Order_Number                           Customer_ID  \\\n",
       "0      5/22/2021  SXF-7309-1727-1334  476582ea-1bba-4289-8775-3fcd8074821c   \n",
       "1      5/22/2021  SXF-7309-1727-1334  476582ea-1bba-4289-8775-3fcd8074821c   \n",
       "2      5/22/2021  SXF-7309-1727-1334  476582ea-1bba-4289-8775-3fcd8074821c   \n",
       "3      3/23/2020  DG7-5410-5845-1340  5929a0e9-95a7-4dbf-896e-c11d1988615e   \n",
       "4      3/23/2020  DG7-5410-5845-1340  5929a0e9-95a7-4dbf-896e-c11d1988615e   \n",
       "...          ...                 ...                                   ...   \n",
       "2709  10/16/2020  P8K-8079-0264-6569  468f40b3-59ca-47fd-9739-c7f19cf48f32   \n",
       "2710  10/16/2020  P8K-8079-0264-6569  468f40b3-59ca-47fd-9739-c7f19cf48f32   \n",
       "2711  10/16/2020  P8K-8079-0264-6569  468f40b3-59ca-47fd-9739-c7f19cf48f32   \n",
       "2712  10/16/2020  P8K-8079-0264-6569  468f40b3-59ca-47fd-9739-c7f19cf48f32   \n",
       "2713  12/10/2019  6ZD-7972-0320-6653  f2a090b3-ec77-4018-939e-1a18d2b4f4ef   \n",
       "\n",
       "            Product_Name         SKU  Price  Quantity Product_Category  \\\n",
       "0         Feline Fix Mix  RKAPY3I1TP  39.55         1            treat   \n",
       "1          Scratchy Post  MPH6SCD7UT  26.95         3              toy   \n",
       "2            Reddy Beddy  DJWE1V9LZK  23.07         3          bedding   \n",
       "3     Snoozer Essentails  GABWVMEL2R  28.04         3          bedding   \n",
       "4            Reddy Beddy  KDTMPSBZKZ  13.84         1          bedding   \n",
       "...                  ...         ...    ...       ...              ...   \n",
       "2709            Cat Cave  058G0P7V60  29.66         1          bedding   \n",
       "2710       Kitty Climber  W86BRJ9SSG  39.32         1              toy   \n",
       "2711       Fetch Blaster  M291KHJ4LW  29.47         1              toy   \n",
       "2712  Snoozer Essentails  GABWVMEL2R  28.04         1          bedding   \n",
       "2713  Snoozer Essentails  GABWVMEL2R  28.04         1          bedding   \n",
       "\n",
       "     Product_Line  Subtotal  \n",
       "0             cat     39.55  \n",
       "1             cat     80.85  \n",
       "2             dog     69.21  \n",
       "3             dog     84.12  \n",
       "4             dog     13.84  \n",
       "...           ...       ...  \n",
       "2709          cat     29.66  \n",
       "2710          cat     39.32  \n",
       "2711          dog     29.47  \n",
       "2712          dog     28.04  \n",
       "2713          dog     28.04  \n",
       "\n",
       "[2714 rows x 10 columns]"
      ]
     },
     "execution_count": 12,
     "metadata": {},
     "output_type": "execute_result"
    }
   ],
   "source": [
    "df['Subtotal'] = df['Price'] * df['Quantity']\n",
    "df"
   ]
  },
  {
   "cell_type": "code",
   "execution_count": 13,
   "metadata": {
    "deletable": false,
    "editable": false,
    "nbgrader": {
     "cell_type": "code",
     "checksum": "633cb19cbfa30c02f0d3dd2e415e1f7f",
     "grade": true,
     "grade_id": "cell-59947069e1f97075",
     "locked": true,
     "points": 1,
     "schema_version": 3,
     "solution": false,
     "task": false
    }
   },
   "outputs": [],
   "source": [
    "# Question 5 Grading Checks\n",
    "\n",
    "assert 'Subtotal' in df.columns, ''"
   ]
  },
  {
   "cell_type": "markdown",
   "metadata": {
    "deletable": false,
    "editable": false,
    "nbgrader": {
     "cell_type": "markdown",
     "checksum": "a489fd68569214e8fe697ca692a4b6d6",
     "grade": false,
     "grade_id": "cell-48b3e6581e0538c5",
     "locked": true,
     "schema_version": 3,
     "solution": false,
     "task": false
    }
   },
   "source": [
    "#### Question 6\n",
    "\n",
    "Determine most common category (`Product_Category`) purchases (number of total\n",
    "items) for both `Product_Line` categories. Assign the (string) name of these\n",
    "categories to their respective variables `common_category_cat` & \n",
    "`common_category_dog`."
   ]
  },
  {
   "cell_type": "code",
   "execution_count": 14,
   "metadata": {
    "deletable": false,
    "nbgrader": {
     "cell_type": "code",
     "checksum": "0ff3ec95390cf80ddfdb36eeb3059cd9",
     "grade": false,
     "grade_id": "cell-ea16c170d026280d",
     "locked": false,
     "schema_version": 3,
     "solution": true,
     "task": false
    }
   },
   "outputs": [
    {
     "name": "stdout",
     "output_type": "stream",
     "text": [
      "Most common category for cat: treat\n",
      "Most common category for dog: bedding\n"
     ]
    }
   ],
   "source": [
    "category_totals = df.groupby(['Product_Line', 'Product_Category'])['Quantity'].sum()\n",
    "common_category_cat = category_totals['cat'].idxmax()\n",
    "common_category_dog = category_totals['dog'].idxmax()\n",
    "print(\"Most common category for cat: \" + common_category_cat)\n",
    "print(\"Most common category for dog: \" + common_category_dog)"
   ]
  },
  {
   "cell_type": "code",
   "execution_count": 15,
   "metadata": {
    "deletable": false,
    "editable": false,
    "nbgrader": {
     "cell_type": "code",
     "checksum": "81b56c74c703230207c517e21388b30f",
     "grade": true,
     "grade_id": "cell-6d5b6023bc8956c2",
     "locked": true,
     "points": 1,
     "schema_version": 3,
     "solution": false,
     "task": false
    }
   },
   "outputs": [],
   "source": [
    "# Question 6 Grading Checks\n",
    "\n",
    "assert isinstance(common_category_dog, str), 'Ensure you assign the name of the category (string) to the variable common_category_dog'\n",
    "assert isinstance(common_category_cat, str), 'Ensure you assign the name of the category (string) to the variable common_category_cat'"
   ]
  },
  {
   "cell_type": "markdown",
   "metadata": {
    "deletable": false,
    "editable": false,
    "nbgrader": {
     "cell_type": "markdown",
     "checksum": "ab133a0283e8c70e90d863d17d5fda5a",
     "grade": false,
     "grade_id": "cell-2018546ce68966c2",
     "locked": true,
     "schema_version": 3,
     "solution": false,
     "task": false
    }
   },
   "source": [
    "#### Question 7\n",
    "\n",
    "Determine which categories (`Product_Category`), by `Product_Line` have the\n",
    "***median*** highest `Price`.\n",
    "Assign the (string) name of these categories to their respective variables\n",
    "`priciest_category_cat` & `priciest_category_dog`."
   ]
  },
  {
   "cell_type": "code",
   "execution_count": 16,
   "metadata": {
    "deletable": false,
    "nbgrader": {
     "cell_type": "code",
     "checksum": "64839aab6cb3625a26266b53a37e7c30",
     "grade": false,
     "grade_id": "cell-f5b3f83c78e74ea1",
     "locked": false,
     "schema_version": 3,
     "solution": true,
     "task": false
    }
   },
   "outputs": [
    {
     "data": {
      "text/plain": [
       "Product_Line  Product_Category\n",
       "cat           bedding             29.66\n",
       "              food                24.53\n",
       "              toy                 16.71\n",
       "              treat               19.96\n",
       "dog           bedding             28.04\n",
       "              food                18.53\n",
       "              toy                 29.47\n",
       "              treat               25.48\n",
       "Name: Price, dtype: float64"
      ]
     },
     "execution_count": 16,
     "metadata": {},
     "output_type": "execute_result"
    }
   ],
   "source": [
    "# Median highest Price: highest of the median prices per category\n",
    "median_prices = df.groupby(['Product_Line', 'Product_Category'])['Price'].median()\n",
    "median_prices"
   ]
  },
  {
   "cell_type": "code",
   "execution_count": 17,
   "metadata": {},
   "outputs": [
    {
     "name": "stdout",
     "output_type": "stream",
     "text": [
      "Priciest category for cat: bedding\n",
      "Priciest category for dog: toy\n"
     ]
    }
   ],
   "source": [
    "priciest_category_cat = median_prices['cat'].idxmax()\n",
    "priciest_category_dog = median_prices['dog'].idxmax()\n",
    "\n",
    "print(\"Priciest category for cat: \" + priciest_category_cat)\n",
    "print(\"Priciest category for dog: \" + priciest_category_dog)"
   ]
  },
  {
   "cell_type": "code",
   "execution_count": 18,
   "metadata": {
    "deletable": false,
    "editable": false,
    "nbgrader": {
     "cell_type": "code",
     "checksum": "133504d35bd833e63a02098e69f12d38",
     "grade": true,
     "grade_id": "cell-fcfafef974e6ac41",
     "locked": true,
     "points": 1,
     "schema_version": 3,
     "solution": false,
     "task": false
    }
   },
   "outputs": [],
   "source": [
    "# Question 7 Grading Checks\n",
    "\n",
    "assert isinstance(priciest_category_dog, str), 'Ensure you assign the name of the category (string) to the variable priciest_category_dog'\n",
    "assert isinstance(priciest_category_cat, str), 'Ensure you assign the name of the category (string) to the variable priciest_category_cat'"
   ]
  },
  {
   "cell_type": "markdown",
   "metadata": {
    "deletable": false,
    "editable": false,
    "nbgrader": {
     "cell_type": "markdown",
     "checksum": "8ef5d7a7f809c73c805ecba753adec0a",
     "grade": false,
     "grade_id": "cell-8233a768cede61f6",
     "locked": true,
     "schema_version": 3,
     "solution": false,
     "task": false
    }
   },
   "source": [
    "## Modeling\n",
    "\n",
    "This is the point of the framework where we'd work on modeling with our data.\n",
    "However, in this activity, we're going to move straight to interpretting."
   ]
  },
  {
   "cell_type": "markdown",
   "metadata": {
    "deletable": false,
    "editable": false,
    "nbgrader": {
     "cell_type": "markdown",
     "checksum": "6fc7d5b23e3fddf188bc936c45682502",
     "grade": false,
     "grade_id": "cell-413f95dbcce94d2a",
     "locked": true,
     "schema_version": 3,
     "solution": false,
     "task": false
    }
   },
   "source": [
    "## Interpret\n",
    "\n",
    "You will interpret the data based on what you found so far. It's important that\n",
    "you follow the directions as stated. Doing more or less than what is asked might\n",
    "lead to not getting full points for the question.\n",
    "\n",
    "\n",
    "------\n",
    "\n",
    "Note that the DataFrame loaded for this section (in the below cell) is the same\n",
    "as the data you used in the [Explore](#explore) section.\n",
    "\n",
    "If while you're working on the scrubbing phase you need to reset the DataFrame,\n",
    "you can restart the kernel (in the toolbar: \"Kernel\" > \"Restart\")."
   ]
  },
  {
   "cell_type": "markdown",
   "metadata": {
    "deletable": false,
    "editable": false,
    "nbgrader": {
     "cell_type": "markdown",
     "checksum": "9299f15f1400c6f7b5880c476871cc05",
     "grade": false,
     "grade_id": "cell-a3fbad770c91fd55",
     "locked": true,
     "schema_version": 3,
     "solution": false,
     "task": false
    }
   },
   "source": [
    "#### Question 8\n",
    "\n",
    "You want to emphasize to your stakeholders that the total number of product\n",
    "categories sold differ between the two `Product_Line` categories (`'cat'` & \n",
    "`'dog'`).\n",
    "\n",
    "Create a **_horizontal_ bar plot** that has `Product_Category` on the y-axis and\n",
    "the total number of that category sold (using the `Quantity`) by each \n",
    "`Product_Line` category. Also **change the axis labels** to something meaningful\n",
    "and add a title.\n",
    "\n",
    "You will likely want to use Seaborn. Make sure you set the result to the\n",
    "variable `ax` like the following:\n",
    "```python\n",
    "ax = # code to create a bar plot\n",
    "```"
   ]
  },
  {
   "cell_type": "code",
   "execution_count": 19,
   "metadata": {
    "deletable": false,
    "nbgrader": {
     "cell_type": "code",
     "checksum": "67d988d8af95c0bc64abd3d4e8c84830",
     "grade": false,
     "grade_id": "cell-62ac242e3d2de621",
     "locked": false,
     "schema_version": 3,
     "solution": true,
     "task": false
    }
   },
   "outputs": [
    {
     "data": {
      "image/png": "[encoded data removed]",
      "text/plain": [
       "<Figure size 432x288 with 1 Axes>"
      ]
     },
     "metadata": {
      "needs_background": "light"
     },
     "output_type": "display_data"
    }
   ],
   "source": [
    "# Your code here\n",
    "\n",
    "# Plotting total quantity sold by Product_Category for each Product_Line\n",
    "ax = sns.barplot(data=df, x='Quantity', y='Product_Category', hue='Product_Line', estimator=sum)\n",
    "plt.xlabel('Total Quantity Sold')\n",
    "plt.ylabel('Product Category')\n",
    "plt.title('Total Quantity Sold by Product Category and Product Line')\n",
    "plt.legend(title='Product Line')\n",
    "plt.show()"
   ]
  },
  {
   "cell_type": "code",
   "execution_count": 20,
   "metadata": {
    "deletable": false,
    "editable": false,
    "nbgrader": {
     "cell_type": "code",
     "checksum": "2a0a2cc1008b8493cc75736f4e50e0f1",
     "grade": true,
     "grade_id": "cell-a457c01c6d74b58e",
     "locked": true,
     "points": 1,
     "schema_version": 3,
     "solution": false,
     "task": false
    }
   },
   "outputs": [],
   "source": [
    "# Question 8 Grading Checks\n",
    "\n",
    "assert isinstance(ax, plt.Axes), 'Did you assign the plot result to the variable ax?'"
   ]
  },
  {
   "cell_type": "markdown",
   "metadata": {
    "deletable": false,
    "editable": false,
    "nbgrader": {
     "cell_type": "markdown",
     "checksum": "c0606c77e3247578b849af900952222c",
     "grade": false,
     "grade_id": "cell-4866317ad45ca0d4",
     "locked": true,
     "schema_version": 3,
     "solution": false,
     "task": false
    }
   },
   "source": [
    "#### Question 9\n",
    "\n",
    "Based on the plot from [Question 8](#question-8), what would you conclude for\n",
    "your stakeholders about what products they should sell? What would be the\n",
    "considerations and/or caveats you'd communicate to your stakeholders?\n",
    "\n",
    "Write at least a couple sentences of your thoughts in a string assigned to the\n",
    "variable `answer_to_9`.\n",
    "\n",
    "The cell below should look something like this:\n",
    "```python\n",
    "answer_to_9 = '''\n",
    "I think that based on the visualization that ****.\n",
    "Therefore I would communicate with the stakeholders that ****\n",
    "'''\n",
    "```"
   ]
  },
  {
   "cell_type": "code",
   "execution_count": 21,
   "metadata": {
    "deletable": false,
    "nbgrader": {
     "cell_type": "code",
     "checksum": "e9c7a698146e694ba38a213da2c66ee1",
     "grade": false,
     "grade_id": "cell-0065ec2ea6b398b5",
     "locked": false,
     "schema_version": 3,
     "solution": true,
     "task": false
    }
   },
   "outputs": [
    {
     "name": "stdout",
     "output_type": "stream",
     "text": [
      "441\n",
      "\n",
      "Based on the visualization, cat treats and dog bedding are the top-selling products, as can be seen that these categories dominate sales volume. Therefore, I would communicate with the stakeholders that we should prioritize and expand our offerings of cat treats and dog bedding. However since this chart reflects only sales quantity, we need to analyze profit margins to identify which products are actually the most financially valuable.\n",
      "\n"
     ]
    }
   ],
   "source": [
    "# Your code here\n",
    "answer_to_9 = '''\n",
    "Based on the visualization, cat treats and dog bedding are the top-selling products, as can be seen that these categories dominate sales volume. Therefore, I would communicate with the stakeholders that we should prioritize and expand our offerings of cat treats and dog bedding. However since this chart reflects only sales quantity, we need to analyze profit margins to identify which products are actually the most financially valuable.\n",
    "'''\n",
    "print(len(answer_to_9))\n",
    "print(answer_to_9)"
   ]
  },
  {
   "cell_type": "code",
   "execution_count": 22,
   "metadata": {
    "deletable": false,
    "editable": false,
    "nbgrader": {
     "cell_type": "code",
     "checksum": "ad8be308a27c915b0d166ab260f704bb",
     "grade": true,
     "grade_id": "cell-a4b012243165933d",
     "locked": true,
     "points": 1,
     "schema_version": 3,
     "solution": false,
     "task": false
    }
   },
   "outputs": [],
   "source": [
    "# Question 9 Grading Checks\n",
    "\n",
    "assert isinstance(answer_to_9, str), 'Make sure you create a string for your answer.'"
   ]
  },
  {
   "cell_type": "markdown",
   "metadata": {
    "deletable": false,
    "editable": false,
    "nbgrader": {
     "cell_type": "markdown",
     "checksum": "ef648ee8c0f9ba3e291e9c02ad9622b5",
     "grade": false,
     "grade_id": "cell-3ad8083b07a1a791",
     "locked": true,
     "schema_version": 3,
     "solution": false,
     "task": false
    }
   },
   "source": [
    "#### Question 10\n",
    "\n",
    "The plot you created for [Question 8](#question-8) is good but could be modified\n",
    "to emphasize which products are important for the business.\n",
    "\n",
    "Create an explanatory visualization that emphasizes the insight you about the\n",
    "product category. This would be a visualization you'd share with the business\n",
    "stakeholders.\n",
    "\n",
    "Make sure you set the result to the variable `ax` like the following:\n",
    "```python\n",
    "ax = # code to create explanatory visualization\n",
    "```"
   ]
  },
  {
   "cell_type": "code",
   "execution_count": 26,
   "metadata": {
    "deletable": false,
    "nbgrader": {
     "cell_type": "code",
     "checksum": "f681a03230d5ade64e4535480e036d2d",
     "grade": false,
     "grade_id": "cell-f0250bd6b5fd8131",
     "locked": false,
     "schema_version": 3,
     "solution": true,
     "task": false
    }
   },
   "outputs": [
    {
     "data": {
      "image/png": "[encoded data removed]",
      "text/plain": [
       "<Figure size 432x288 with 1 Axes>"
      ]
     },
     "metadata": {
      "needs_background": "light"
     },
     "output_type": "display_data"
    },
    {
     "name": "stdout",
     "output_type": "stream",
     "text": [
      "For both cat and dog product lines, the category that sells the most units is also the one that generates the most revenue. \n"
     ]
    }
   ],
   "source": [
    "# Create a horizontal bar chart showing the total revenue (Subtotal)\n",
    "# for each Product_Category, broken down by Product_Line.\n",
    "# The estimator=sum argument ensures the bars represent the total revenue per category.\n",
    "ax = sns.barplot(data=df, x='Subtotal', y='Product_Category', hue='Product_Line', estimator=sum)\n",
    "plt.title('Total Revenue by Product Category and Product Line')\n",
    "plt.xlabel('Total Revenue')\n",
    "plt.ylabel('Product Category')\n",
    "plt.legend(title='Product Line')\n",
    "plt.show()\n",
    "\n",
    "print(\"For both cat and dog product lines, the category that sells the most units is also the one that generates the most revenue. \")"
   ]
  },
  {
   "cell_type": "code",
   "execution_count": 24,
   "metadata": {
    "deletable": false,
    "editable": false,
    "nbgrader": {
     "cell_type": "code",
     "checksum": "b837999c937d3617c5dde7da3b5081db",
     "grade": true,
     "grade_id": "cell-e594fd63b9fe4a8f",
     "locked": true,
     "points": 1,
     "schema_version": 3,
     "solution": false,
     "task": false
    }
   },
   "outputs": [],
   "source": [
    "# Question 10 Grading Checks\n",
    "\n",
    "assert isinstance(ax, plt.Axes), 'Did you assign the plot result to the variable ax?'"
   ]
  }
 ],
 "metadata": {
  "kernelspec": {
   "display_name": "Python 3",
   "language": "python",
   "name": "python3"
  },
  "language_info": {
   "codemirror_mode": {
    "name": "ipython",
    "version": 3
   },
   "file_extension": ".py",
   "mimetype": "text/x-python",
   "name": "python",
   "nbconvert_exporter": "python",
   "pygments_lexer": "ipython3",
   "version": "3.7.6"
  }
 },
 "nbformat": 4,
 "nbformat_minor": 4
}
